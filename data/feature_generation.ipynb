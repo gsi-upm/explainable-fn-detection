{
 "cells": [
  {
   "cell_type": "markdown",
   "metadata": {},
   "source": [
    "Notebook for preprocessing datasets related to fake news detection"
   ]
  },
  {
   "cell_type": "markdown",
   "metadata": {},
   "source": [
    "## Imports"
   ]
  },
  {
   "cell_type": "code",
   "execution_count": 1,
   "metadata": {},
   "outputs": [],
   "source": [
    "%load_ext autoreload\n",
    "%autoreload 2\n",
    "\n",
    "import pandas as pd\n",
    "import numpy as np\n",
    "import re\n",
    "from utils.dataset_loader import DatasetLoader\n",
    "from moralstrength.moralstrength import estimate_morals\n",
    "import nltk\n",
    "import readability\n",
    "from collections import Counter\n",
    "import liwc\n",
    "from vaderSentiment.vaderSentiment import SentimentIntensityAnalyzer\n",
    "from textblob import TextBlob\n",
    "from nrclex import NRCLex"
   ]
  },
  {
   "cell_type": "code",
   "execution_count": 2,
   "metadata": {},
   "outputs": [],
   "source": [
    "def dict_update(x, z):\n",
    "    y = x.copy()\n",
    "    y.update(z)\n",
    "    return y\n",
    "\n",
    "def update_counter(coun, length):\n",
    "    for item, _ in coun.items():\n",
    "        coun[item] /= length\n",
    "    return coun"
   ]
  },
  {
   "cell_type": "code",
   "execution_count": 3,
   "metadata": {},
   "outputs": [
    {
     "name": "stderr",
     "output_type": "stream",
     "text": [
      "[nltk_data] Downloading package wordnet to /home/sergio/nltk_data...\n",
      "[nltk_data]   Package wordnet is already up-to-date!\n",
      "[nltk_data] Downloading package punkt to /home/sergio/nltk_data...\n",
      "[nltk_data]   Package punkt is already up-to-date!\n"
     ]
    },
    {
     "data": {
      "text/plain": [
       "True"
      ]
     },
     "execution_count": 3,
     "metadata": {},
     "output_type": "execute_result"
    }
   ],
   "source": [
    "nltk.download('wordnet') #English\n",
    "nltk.download('punkt')"
   ]
  },
  {
   "cell_type": "code",
   "execution_count": 4,
   "metadata": {},
   "outputs": [],
   "source": [
    "parse, category_names = liwc.load_token_parser('dic/LIWCDictionary-en.dic')\n",
    "liwc_dic = {key: 0 for key in category_names}\n",
    "analyzer = SentimentIntensityAnalyzer()\n"
   ]
  },
  {
   "cell_type": "code",
   "execution_count": 5,
   "metadata": {},
   "outputs": [],
   "source": [
    "## Load datasets\n",
    "fakenewsnet_dataset = DatasetLoader('FakeNewsNet', './processed/fn_fakenewsnet.csv')\n",
    "fn_isot_dataset = DatasetLoader('FakeNewsISOT', './processed/fn_isot.csv')\n",
    "fn_kaggle_dataset = DatasetLoader('FakeNewsKaggle', './processed/fn_kaggle.csv')\n",
    "fakenews_amt_dataset = DatasetLoader('FakeNewsAMT', './processed/fn_amt.csv')\n",
    "fn_random_political_dataset = DatasetLoader('FakeNewsRandomPolitical', './processed/fn_randompolitical.csv')\n",
    "fn_celebrity_dataset = DatasetLoader('FakeNewsCelebrity', './processed/fn_celebrity.csv')\n",
    "fn_buzfeed_political_dataset = DatasetLoader('FakeNewsBuzfeedPolitical', './processed/fn_buzfeed_political.csv')\n",
    "fn_politfalse = DatasetLoader('FakeNewsPolitFalse', './processed/fn_politfalse.csv')\n",
    "fn_satirical = DatasetLoader('FakeNewsSatirical', './processed/fn_satirical.csv')\n"
   ]
  },
  {
   "cell_type": "code",
   "execution_count": 6,
   "metadata": {},
   "outputs": [],
   "source": [
    "# datasets = [fn_kaggle_dataset, fn_isot_dataset]\n",
    "# datasets = [fakenewsnet_dataset, fn_isot_dataset, fn_kaggle_dataset]\n",
    "datasets = [fakenewsnet_dataset, fn_isot_dataset, fn_kaggle_dataset, fakenews_amt_dataset, fn_random_political_dataset, fn_celebrity_dataset, fn_buzfeed_political_dataset, fn_politfalse, fn_satirical]\n"
   ]
  },
  {
   "cell_type": "code",
   "execution_count": 7,
   "metadata": {},
   "outputs": [
    {
     "name": "stdout",
     "output_type": "stream",
     "text": [
      "-----Loading FakeNewsMcintire-----\n",
      "-----Extracting readability features-----\n",
      "-----Extracting sentiment features-----\n",
      "-----Extracting emotions features-----\n",
      "-----Extracting liwc features-----\n",
      "-----Extracting moral features-----\n"
     ]
    },
    {
     "name": "stderr",
     "output_type": "stream",
     "text": [
      "/home/sergio/.virtualenvs/agents-as-mediators/lib/python3.10/site-packages/spacy/pipeline/lemmatizer.py:211: UserWarning: [W108] The rule-based lemmatizer did not find POS annotation for one or more tokens. Check that your pipeline includes components that assign token.pos, typically 'tagger'+'attribute_ruler' or 'morphologizer'.\n",
      "  warnings.warn(Warnings.W108)\n"
     ]
    },
    {
     "name": "stdout",
     "output_type": "stream",
     "text": [
      "-----Extracting subjectivity-----\n",
      "-----Saving FakeNewsMcintire-----\n"
     ]
    }
   ],
   "source": [
    "for dataset in datasets:\n",
    "    print('-----Loading {dataset_name}-----'.format(dataset_name=dataset.name))\n",
    "    dataset.load()\n",
    "    dataset.lower()\n",
    "    dataset.tokenize()\n",
    "\n",
    "    df = dataset.df\n",
    "\n",
    "    # extract readability features\n",
    "    print('-----Extracting readability features-----')\n",
    "    readability_features = df.apply(lambda x: readability.getmeasures(x['tokenized_text'], lang='en', merge=True), axis=1)\n",
    "    readability_features = readability_features.apply(pd.Series).add_prefix('readability_')\n",
    "    df = dataset.concat_dataframe_columns(readability_features)\n",
    "    \n",
    "    # extract sentiment features\n",
    "    print('-----Extracting sentiment features-----')\n",
    "    sentiments = df['text'].apply(analyzer.polarity_scores)\n",
    "    sentiments = sentiments.apply(pd.Series).add_prefix('sentiment_')\n",
    "    df = dataset.concat_dataframe_columns(sentiments)\n",
    "\n",
    "    # extract emotions features\n",
    "    print('-----Extracting emotions features-----')\n",
    "    emotions_features = df.apply(lambda x: NRCLex(x.text).affect_frequencies, axis=1)\n",
    "    emotions_features = emotions_features.apply(pd.Series).add_prefix('emotion_')\n",
    "    df = dataset.concat_dataframe_columns(emotions_features)\n",
    "    \n",
    "    # extract liwc features\n",
    "    print('-----Extracting liwc features-----')\n",
    "    liwc_features = df.apply(lambda x: dict_update(liwc_dic, update_counter(Counter(category for token in x['tokenized_text'] for category in parse(token)), x['readability_words'])), axis=1)\n",
    "    liwc_features = liwc_features.apply(pd.Series).add_prefix('liwc_')\n",
    "    df = dataset.concat_dataframe_columns(liwc_features)\n",
    "\n",
    "    # extract moral features\n",
    "    print('-----Extracting moral features-----')\n",
    "    morals = estimate_morals(df.text, process=True)\n",
    "    morals.fillna(0, inplace=True)\n",
    "    morals = morals.add_prefix('moral_')\n",
    "    dataset.join_dataframe(morals)\n",
    "\n",
    "    # extract subjectivity\n",
    "    print('-----Extracting subjectivity-----')\n",
    "    dataset.df['subjectivity'] = df['text'].apply(lambda x: TextBlob(x).sentiment.subjectivity) \n",
    "\n",
    "    # save dataset\n",
    "    print('-----Saving {dataset_name}-----'.format(dataset_name=dataset.name))\n",
    "    dataset.df.to_csv('./wf/{dataset_name}_wf.csv'.format(dataset_name=dataset.name))"
   ]
  },
  {
   "cell_type": "code",
   "execution_count": null,
   "metadata": {},
   "outputs": [],
   "source": []
  }
 ],
 "metadata": {
  "kernelspec": {
   "display_name": "agents-as-mediators",
   "language": "python",
   "name": "python3"
  },
  "language_info": {
   "codemirror_mode": {
    "name": "ipython",
    "version": 3
   },
   "file_extension": ".py",
   "mimetype": "text/x-python",
   "name": "python",
   "nbconvert_exporter": "python",
   "pygments_lexer": "ipython3",
   "version": "3.10.12"
  }
 },
 "nbformat": 4,
 "nbformat_minor": 2
}
